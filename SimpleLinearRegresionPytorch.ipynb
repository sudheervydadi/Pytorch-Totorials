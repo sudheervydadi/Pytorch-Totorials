{
  "nbformat": 4,
  "nbformat_minor": 0,
  "metadata": {
    "colab": {
      "name": "SimpleLinearRegresionPytorch.ipynb",
      "provenance": []
    },
    "kernelspec": {
      "name": "python3",
      "display_name": "Python 3"
    }
  },
  "cells": [
    {
      "cell_type": "code",
      "metadata": {
        "id": "caWIw_PXXxPq",
        "colab_type": "code",
        "colab": {}
      },
      "source": [
        "import torch\n",
        "import pandas as pd\n",
        "import numpy as np"
      ],
      "execution_count": 3,
      "outputs": []
    },
    {
      "cell_type": "code",
      "metadata": {
        "id": "bP5fu7C5X8iV",
        "colab_type": "code",
        "colab": {
          "base_uri": "https://localhost:8080/",
          "height": 122
        },
        "outputId": "6c35485c-a5fd-488b-b5d3-d5f0c44b10bc"
      },
      "source": [
        "from google.colab import drive\n",
        "drive.mount('/content/gdrive')"
      ],
      "execution_count": 4,
      "outputs": [
        {
          "output_type": "stream",
          "text": [
            "Go to this URL in a browser: https://accounts.google.com/o/oauth2/auth?client_id=947318989803-6bn6qk8qdgf4n4g3pfee6491hc0brc4i.apps.googleusercontent.com&redirect_uri=urn%3aietf%3awg%3aoauth%3a2.0%3aoob&response_type=code&scope=email%20https%3a%2f%2fwww.googleapis.com%2fauth%2fdocs.test%20https%3a%2f%2fwww.googleapis.com%2fauth%2fdrive%20https%3a%2f%2fwww.googleapis.com%2fauth%2fdrive.photos.readonly%20https%3a%2f%2fwww.googleapis.com%2fauth%2fpeopleapi.readonly\n",
            "\n",
            "Enter your authorization code:\n",
            "··········\n",
            "Mounted at /content/gdrive\n"
          ],
          "name": "stdout"
        }
      ]
    },
    {
      "cell_type": "code",
      "metadata": {
        "id": "xmgpL5S4aLhP",
        "colab_type": "code",
        "colab": {}
      },
      "source": [
        "data=pd.read_csv(r'/content/gdrive/My Drive/MyDataSets/Salary_Data.csv')"
      ],
      "execution_count": 6,
      "outputs": []
    },
    {
      "cell_type": "code",
      "metadata": {
        "id": "v4Vqqg4AbMU7",
        "colab_type": "code",
        "colab": {
          "base_uri": "https://localhost:8080/",
          "height": 34
        },
        "outputId": "8b77ec0d-1589-494c-acc5-730be8bad928"
      },
      "source": [
        "data.columns"
      ],
      "execution_count": 7,
      "outputs": [
        {
          "output_type": "execute_result",
          "data": {
            "text/plain": [
              "Index(['YearsExperience', 'Salary'], dtype='object')"
            ]
          },
          "metadata": {
            "tags": []
          },
          "execution_count": 7
        }
      ]
    },
    {
      "cell_type": "code",
      "metadata": {
        "id": "KDRO24guzjFE",
        "colab_type": "code",
        "colab": {
          "base_uri": "https://localhost:8080/",
          "height": 34
        },
        "outputId": "a6fdc2c6-1393-4cea-e1c0-00751a9065a2"
      },
      "source": [
        "data['Salary'].shape[0]"
      ],
      "execution_count": 179,
      "outputs": [
        {
          "output_type": "execute_result",
          "data": {
            "text/plain": [
              "30"
            ]
          },
          "metadata": {
            "tags": []
          },
          "execution_count": 179
        }
      ]
    },
    {
      "cell_type": "code",
      "metadata": {
        "id": "xC3uV55AXGZw",
        "colab_type": "code",
        "colab": {}
      },
      "source": [
        "from sklearn import preprocessing\n",
        "x = data.values #returns a numpy array\n",
        "min_max_scaler = preprocessing.MinMaxScaler()\n",
        "x_scaled = min_max_scaler.fit_transform(x)\n",
        "df = pd.DataFrame(x_scaled,columns=data.columns)"
      ],
      "execution_count": 313,
      "outputs": []
    },
    {
      "cell_type": "code",
      "metadata": {
        "id": "WL7sWeuyX3RX",
        "colab_type": "code",
        "colab": {
          "base_uri": "https://localhost:8080/",
          "height": 979
        },
        "outputId": "351354e9-5e81-4600-e50e-6543ce74e1da"
      },
      "source": [
        "df"
      ],
      "execution_count": 314,
      "outputs": [
        {
          "output_type": "execute_result",
          "data": {
            "text/html": [
              "<div>\n",
              "<style scoped>\n",
              "    .dataframe tbody tr th:only-of-type {\n",
              "        vertical-align: middle;\n",
              "    }\n",
              "\n",
              "    .dataframe tbody tr th {\n",
              "        vertical-align: top;\n",
              "    }\n",
              "\n",
              "    .dataframe thead th {\n",
              "        text-align: right;\n",
              "    }\n",
              "</style>\n",
              "<table border=\"1\" class=\"dataframe\">\n",
              "  <thead>\n",
              "    <tr style=\"text-align: right;\">\n",
              "      <th></th>\n",
              "      <th>YearsExperience</th>\n",
              "      <th>Salary</th>\n",
              "    </tr>\n",
              "  </thead>\n",
              "  <tbody>\n",
              "    <tr>\n",
              "      <th>0</th>\n",
              "      <td>0.000000</td>\n",
              "      <td>0.019041</td>\n",
              "    </tr>\n",
              "    <tr>\n",
              "      <th>1</th>\n",
              "      <td>0.021277</td>\n",
              "      <td>0.100094</td>\n",
              "    </tr>\n",
              "    <tr>\n",
              "      <th>2</th>\n",
              "      <td>0.042553</td>\n",
              "      <td>0.000000</td>\n",
              "    </tr>\n",
              "    <tr>\n",
              "      <th>3</th>\n",
              "      <td>0.095745</td>\n",
              "      <td>0.068438</td>\n",
              "    </tr>\n",
              "    <tr>\n",
              "      <th>4</th>\n",
              "      <td>0.117021</td>\n",
              "      <td>0.025514</td>\n",
              "    </tr>\n",
              "    <tr>\n",
              "      <th>5</th>\n",
              "      <td>0.191489</td>\n",
              "      <td>0.223376</td>\n",
              "    </tr>\n",
              "    <tr>\n",
              "      <th>6</th>\n",
              "      <td>0.202128</td>\n",
              "      <td>0.264812</td>\n",
              "    </tr>\n",
              "    <tr>\n",
              "      <th>7</th>\n",
              "      <td>0.223404</td>\n",
              "      <td>0.197425</td>\n",
              "    </tr>\n",
              "    <tr>\n",
              "      <th>8</th>\n",
              "      <td>0.223404</td>\n",
              "      <td>0.315545</td>\n",
              "    </tr>\n",
              "    <tr>\n",
              "      <th>9</th>\n",
              "      <td>0.276596</td>\n",
              "      <td>0.229837</td>\n",
              "    </tr>\n",
              "    <tr>\n",
              "      <th>10</th>\n",
              "      <td>0.297872</td>\n",
              "      <td>0.301051</td>\n",
              "    </tr>\n",
              "    <tr>\n",
              "      <th>11</th>\n",
              "      <td>0.308511</td>\n",
              "      <td>0.213359</td>\n",
              "    </tr>\n",
              "    <tr>\n",
              "      <th>12</th>\n",
              "      <td>0.308511</td>\n",
              "      <td>0.227097</td>\n",
              "    </tr>\n",
              "    <tr>\n",
              "      <th>13</th>\n",
              "      <td>0.319149</td>\n",
              "      <td>0.228561</td>\n",
              "    </tr>\n",
              "    <tr>\n",
              "      <th>14</th>\n",
              "      <td>0.361702</td>\n",
              "      <td>0.276163</td>\n",
              "    </tr>\n",
              "    <tr>\n",
              "      <th>15</th>\n",
              "      <td>0.404255</td>\n",
              "      <td>0.356804</td>\n",
              "    </tr>\n",
              "    <tr>\n",
              "      <th>16</th>\n",
              "      <td>0.425532</td>\n",
              "      <td>0.334255</td>\n",
              "    </tr>\n",
              "    <tr>\n",
              "      <th>17</th>\n",
              "      <td>0.446809</td>\n",
              "      <td>0.535755</td>\n",
              "    </tr>\n",
              "    <tr>\n",
              "      <th>18</th>\n",
              "      <td>0.510638</td>\n",
              "      <td>0.515379</td>\n",
              "    </tr>\n",
              "    <tr>\n",
              "      <th>19</th>\n",
              "      <td>0.521277</td>\n",
              "      <td>0.663938</td>\n",
              "    </tr>\n",
              "    <tr>\n",
              "      <th>20</th>\n",
              "      <td>0.606383</td>\n",
              "      <td>0.637928</td>\n",
              "    </tr>\n",
              "    <tr>\n",
              "      <th>21</th>\n",
              "      <td>0.638298</td>\n",
              "      <td>0.715119</td>\n",
              "    </tr>\n",
              "    <tr>\n",
              "      <th>22</th>\n",
              "      <td>0.723404</td>\n",
              "      <td>0.750898</td>\n",
              "    </tr>\n",
              "    <tr>\n",
              "      <th>23</th>\n",
              "      <td>0.755319</td>\n",
              "      <td>0.898665</td>\n",
              "    </tr>\n",
              "    <tr>\n",
              "      <th>24</th>\n",
              "      <td>0.808511</td>\n",
              "      <td>0.846917</td>\n",
              "    </tr>\n",
              "    <tr>\n",
              "      <th>25</th>\n",
              "      <td>0.840426</td>\n",
              "      <td>0.801453</td>\n",
              "    </tr>\n",
              "    <tr>\n",
              "      <th>26</th>\n",
              "      <td>0.893617</td>\n",
              "      <td>0.935956</td>\n",
              "    </tr>\n",
              "    <tr>\n",
              "      <th>27</th>\n",
              "      <td>0.904255</td>\n",
              "      <td>0.884763</td>\n",
              "    </tr>\n",
              "    <tr>\n",
              "      <th>28</th>\n",
              "      <td>0.978723</td>\n",
              "      <td>1.000000</td>\n",
              "    </tr>\n",
              "    <tr>\n",
              "      <th>29</th>\n",
              "      <td>1.000000</td>\n",
              "      <td>0.993870</td>\n",
              "    </tr>\n",
              "  </tbody>\n",
              "</table>\n",
              "</div>"
            ],
            "text/plain": [
              "    YearsExperience    Salary\n",
              "0          0.000000  0.019041\n",
              "1          0.021277  0.100094\n",
              "2          0.042553  0.000000\n",
              "3          0.095745  0.068438\n",
              "4          0.117021  0.025514\n",
              "5          0.191489  0.223376\n",
              "6          0.202128  0.264812\n",
              "7          0.223404  0.197425\n",
              "8          0.223404  0.315545\n",
              "9          0.276596  0.229837\n",
              "10         0.297872  0.301051\n",
              "11         0.308511  0.213359\n",
              "12         0.308511  0.227097\n",
              "13         0.319149  0.228561\n",
              "14         0.361702  0.276163\n",
              "15         0.404255  0.356804\n",
              "16         0.425532  0.334255\n",
              "17         0.446809  0.535755\n",
              "18         0.510638  0.515379\n",
              "19         0.521277  0.663938\n",
              "20         0.606383  0.637928\n",
              "21         0.638298  0.715119\n",
              "22         0.723404  0.750898\n",
              "23         0.755319  0.898665\n",
              "24         0.808511  0.846917\n",
              "25         0.840426  0.801453\n",
              "26         0.893617  0.935956\n",
              "27         0.904255  0.884763\n",
              "28         0.978723  1.000000\n",
              "29         1.000000  0.993870"
            ]
          },
          "metadata": {
            "tags": []
          },
          "execution_count": 314
        }
      ]
    },
    {
      "cell_type": "code",
      "metadata": {
        "id": "r1bCbIzpbgEZ",
        "colab_type": "code",
        "colab": {}
      },
      "source": [
        "input=torch.tensor(df['YearsExperience']).reshape(1,df['YearsExperience'].shape[0])\n",
        "output=torch.tensor(df['Salary']).reshape(1,df['Salary'].shape[0])"
      ],
      "execution_count": 339,
      "outputs": []
    },
    {
      "cell_type": "code",
      "metadata": {
        "id": "OmrK4C0Acnqo",
        "colab_type": "code",
        "colab": {}
      },
      "source": [
        "weight=torch.randn(size=tuple(input.shape),requires_grad=True,dtype=input.dtype)\n",
        "bias=torch.rand(30,requires_grad=True,dtype=input.dtype)"
      ],
      "execution_count": 340,
      "outputs": []
    },
    {
      "cell_type": "code",
      "metadata": {
        "id": "UNWdohH82r_7",
        "colab_type": "code",
        "colab": {
          "base_uri": "https://localhost:8080/",
          "height": 85
        },
        "outputId": "008a2427-693b-4fa5-f7e3-89c83ba016fe"
      },
      "source": [
        "bias\n"
      ],
      "execution_count": 317,
      "outputs": [
        {
          "output_type": "execute_result",
          "data": {
            "text/plain": [
              "tensor([0.4534, 0.6020, 0.1943, 0.3616, 0.1324, 0.4164, 0.5801, 0.1029, 0.8787,\n",
              "        0.2802, 0.1480, 0.9024, 0.0647, 0.5066, 0.6180, 0.3786, 0.6795, 0.3606,\n",
              "        0.1286, 0.0044, 0.1582, 0.6941, 0.1661, 0.4233, 0.6995, 0.4924, 0.2069,\n",
              "        0.3810, 0.8249, 0.2868], dtype=torch.float64, requires_grad=True)"
            ]
          },
          "metadata": {
            "tags": []
          },
          "execution_count": 317
        }
      ]
    },
    {
      "cell_type": "code",
      "metadata": {
        "id": "YQJxHDesfJ6p",
        "colab_type": "code",
        "colab": {
          "base_uri": "https://localhost:8080/",
          "height": 102
        },
        "outputId": "3cf43bb6-c889-4114-cff7-aa02b170fff0"
      },
      "source": [
        "weight"
      ],
      "execution_count": 318,
      "outputs": [
        {
          "output_type": "execute_result",
          "data": {
            "text/plain": [
              "tensor([[ 0.5345,  1.6918, -0.1837, -1.9291,  0.5643,  0.9806, -0.9131, -1.3569,\n",
              "          0.0944, -0.5760,  0.4150, -0.5126, -1.1063, -0.7298,  0.3816,  0.3188,\n",
              "         -0.9048,  0.1581, -0.3066,  0.0519,  1.0745, -0.0076,  0.8364,  1.6035,\n",
              "          2.1600, -1.1113, -2.3328,  1.2437,  1.5201, -0.7509]],\n",
              "       dtype=torch.float64, requires_grad=True)"
            ]
          },
          "metadata": {
            "tags": []
          },
          "execution_count": 318
        }
      ]
    },
    {
      "cell_type": "code",
      "metadata": {
        "id": "9GLgGDYHd0Ij",
        "colab_type": "code",
        "colab": {}
      },
      "source": [
        "def model(x):\n",
        "    return x@(weight.T)+bias"
      ],
      "execution_count": 341,
      "outputs": []
    },
    {
      "cell_type": "code",
      "metadata": {
        "id": "79s7jTA-38Rj",
        "colab_type": "code",
        "colab": {}
      },
      "source": [
        "pred=model(input)"
      ],
      "execution_count": 342,
      "outputs": []
    },
    {
      "cell_type": "code",
      "metadata": {
        "id": "KMEev_9xfbzB",
        "colab_type": "code",
        "colab": {
          "base_uri": "https://localhost:8080/",
          "height": 85
        },
        "outputId": "9eb50bee-193d-495e-b15e-e4b80f5f5e22"
      },
      "source": [
        "pred"
      ],
      "execution_count": 321,
      "outputs": [
        {
          "output_type": "execute_result",
          "data": {
            "text/plain": [
              "tensor([[2.1914, 2.3400, 1.9323, 2.0996, 1.8704, 2.1543, 2.3180, 1.8408, 2.6166,\n",
              "         2.0182, 1.8859, 2.6403, 1.8026, 2.2445, 2.3559, 2.1165, 2.4174, 2.0985,\n",
              "         1.8666, 1.7424, 1.8962, 2.4320, 1.9040, 2.1612, 2.4374, 2.2303, 1.9448,\n",
              "         2.1189, 2.5629, 2.0248]], dtype=torch.float64, grad_fn=<AddBackward0>)"
            ]
          },
          "metadata": {
            "tags": []
          },
          "execution_count": 321
        }
      ]
    },
    {
      "cell_type": "code",
      "metadata": {
        "id": "6dODQgXmfepz",
        "colab_type": "code",
        "colab": {
          "base_uri": "https://localhost:8080/",
          "height": 85
        },
        "outputId": "e6de8a2a-7841-4ce2-ee9c-a04ca599b683"
      },
      "source": [
        "output"
      ],
      "execution_count": 322,
      "outputs": [
        {
          "output_type": "execute_result",
          "data": {
            "text/plain": [
              "tensor([[0.0190, 0.1001, 0.0000, 0.0684, 0.0255, 0.2234, 0.2648, 0.1974, 0.3155,\n",
              "         0.2298, 0.3011, 0.2134, 0.2271, 0.2286, 0.2762, 0.3568, 0.3343, 0.5358,\n",
              "         0.5154, 0.6639, 0.6379, 0.7151, 0.7509, 0.8987, 0.8469, 0.8015, 0.9360,\n",
              "         0.8848, 1.0000, 0.9939]], dtype=torch.float64)"
            ]
          },
          "metadata": {
            "tags": []
          },
          "execution_count": 322
        }
      ]
    },
    {
      "cell_type": "code",
      "metadata": {
        "id": "h45tcRHK6R0U",
        "colab_type": "code",
        "colab": {}
      },
      "source": [
        "def mse(d1,d2):\n",
        "    diff=d1-d2\n",
        "    return torch.sum(diff*diff)/diff.numel()"
      ],
      "execution_count": 323,
      "outputs": []
    },
    {
      "cell_type": "code",
      "metadata": {
        "id": "cs6HhYT66fb2",
        "colab_type": "code",
        "colab": {}
      },
      "source": [
        "loss=mse(output,pred)"
      ],
      "execution_count": 324,
      "outputs": []
    },
    {
      "cell_type": "code",
      "metadata": {
        "id": "wV4hdrDH6iLE",
        "colab_type": "code",
        "colab": {
          "base_uri": "https://localhost:8080/",
          "height": 34
        },
        "outputId": "2f9e3447-3835-4d61-a9e3-9c6a2323655d"
      },
      "source": [
        "loss"
      ],
      "execution_count": 325,
      "outputs": [
        {
          "output_type": "execute_result",
          "data": {
            "text/plain": [
              "tensor(3.0117, dtype=torch.float64, grad_fn=<DivBackward0>)"
            ]
          },
          "metadata": {
            "tags": []
          },
          "execution_count": 325
        }
      ]
    },
    {
      "cell_type": "code",
      "metadata": {
        "id": "L26lbd-YUOt5",
        "colab_type": "code",
        "colab": {}
      },
      "source": [
        "loss.backward()"
      ],
      "execution_count": 326,
      "outputs": []
    },
    {
      "cell_type": "code",
      "metadata": {
        "id": "t0k2j5xgUnlf",
        "colab_type": "code",
        "colab": {
          "base_uri": "https://localhost:8080/",
          "height": 85
        },
        "outputId": "ceef31ee-1988-4cfb-d9b9-dc74de1e9c2d"
      },
      "source": [
        "weight.grad"
      ],
      "execution_count": 327,
      "outputs": [
        {
          "output_type": "execute_result",
          "data": {
            "text/plain": [
              "tensor([[0.0000, 0.0719, 0.1438, 0.3236, 0.3956, 0.6473, 0.6832, 0.7551, 0.7551,\n",
              "         0.9349, 1.0069, 1.0428, 1.0428, 1.0788, 1.2226, 1.3665, 1.4384, 1.5103,\n",
              "         1.7261, 1.7620, 2.0497, 2.1576, 2.4452, 2.5531, 2.7329, 2.8408, 3.0206,\n",
              "         3.0566, 3.3083, 3.3802]], dtype=torch.float64)"
            ]
          },
          "metadata": {
            "tags": []
          },
          "execution_count": 327
        }
      ]
    },
    {
      "cell_type": "code",
      "metadata": {
        "id": "WDkVMkKCUqau",
        "colab_type": "code",
        "colab": {
          "base_uri": "https://localhost:8080/",
          "height": 85
        },
        "outputId": "d7cb39fd-408a-47c4-a6e4-22e10c39beb6"
      },
      "source": [
        "bias.grad"
      ],
      "execution_count": 328,
      "outputs": [
        {
          "output_type": "execute_result",
          "data": {
            "text/plain": [
              "tensor([0.1448, 0.1493, 0.1288, 0.1354, 0.1230, 0.1287, 0.1369, 0.1096, 0.1534,\n",
              "        0.1192, 0.1057, 0.1618, 0.1050, 0.1344, 0.1387, 0.1173, 0.1389, 0.1042,\n",
              "        0.0901, 0.0719, 0.0839, 0.1145, 0.0769, 0.0842, 0.1060, 0.0953, 0.0673,\n",
              "        0.0823, 0.1042, 0.0687], dtype=torch.float64)"
            ]
          },
          "metadata": {
            "tags": []
          },
          "execution_count": 328
        }
      ]
    },
    {
      "cell_type": "code",
      "metadata": {
        "id": "zpe14e2MUvBG",
        "colab_type": "code",
        "colab": {}
      },
      "source": [
        "epochs=500\n",
        "for i in range(epochs):\n",
        "    pred=model(input)\n",
        "    loss=mse(output,pred)\n",
        "    loss.backward()\n",
        "    with torch.no_grad():\n",
        "        weight-=1e-1*weight.grad\n",
        "        bias-=1e-1*bias.grad\n",
        "        weight.grad.zero_()\n",
        "        bias.grad.zero_()"
      ],
      "execution_count": 343,
      "outputs": []
    },
    {
      "cell_type": "code",
      "metadata": {
        "id": "pBg4pQY0Wl-a",
        "colab_type": "code",
        "colab": {
          "base_uri": "https://localhost:8080/",
          "height": 34
        },
        "outputId": "3d7b3ee3-e226-4fc9-978a-121aa37cdf41"
      },
      "source": [
        "loss"
      ],
      "execution_count": 344,
      "outputs": [
        {
          "output_type": "execute_result",
          "data": {
            "text/plain": [
              "tensor(0.0002, dtype=torch.float64, grad_fn=<DivBackward0>)"
            ]
          },
          "metadata": {
            "tags": []
          },
          "execution_count": 344
        }
      ]
    },
    {
      "cell_type": "code",
      "metadata": {
        "id": "Ugt31v1uWyti",
        "colab_type": "code",
        "colab": {
          "base_uri": "https://localhost:8080/",
          "height": 85
        },
        "outputId": "8b9d7601-91e8-4fe8-f9cb-2e9f96b671e4"
      },
      "source": [
        "pred"
      ],
      "execution_count": 345,
      "outputs": [
        {
          "output_type": "execute_result",
          "data": {
            "text/plain": [
              "tensor([[0.0443, 0.1129, 0.0178, 0.0746, 0.0462, 0.2312, 0.2587, 0.1977, 0.3244,\n",
              "         0.2261, 0.2917, 0.2351, 0.2439, 0.2386, 0.3003, 0.3467, 0.3271, 0.5487,\n",
              "         0.5269, 0.6516, 0.6315, 0.7155, 0.7515, 0.8723, 0.8362, 0.7913, 0.9045,\n",
              "         0.8544, 0.9865, 0.9737]], dtype=torch.float64, grad_fn=<AddBackward0>)"
            ]
          },
          "metadata": {
            "tags": []
          },
          "execution_count": 345
        }
      ]
    },
    {
      "cell_type": "code",
      "metadata": {
        "id": "Yyntla1CYQRE",
        "colab_type": "code",
        "colab": {
          "base_uri": "https://localhost:8080/",
          "height": 85
        },
        "outputId": "5b72323f-6ddb-4666-9d4d-a36d6f0d878e"
      },
      "source": [
        "output"
      ],
      "execution_count": 346,
      "outputs": [
        {
          "output_type": "execute_result",
          "data": {
            "text/plain": [
              "tensor([[0.0190, 0.1001, 0.0000, 0.0684, 0.0255, 0.2234, 0.2648, 0.1974, 0.3155,\n",
              "         0.2298, 0.3011, 0.2134, 0.2271, 0.2286, 0.2762, 0.3568, 0.3343, 0.5358,\n",
              "         0.5154, 0.6639, 0.6379, 0.7151, 0.7509, 0.8987, 0.8469, 0.8015, 0.9360,\n",
              "         0.8848, 1.0000, 0.9939]], dtype=torch.float64)"
            ]
          },
          "metadata": {
            "tags": []
          },
          "execution_count": 346
        }
      ]
    },
    {
      "cell_type": "code",
      "metadata": {
        "id": "lU_6yq_BYR0I",
        "colab_type": "code",
        "colab": {
          "base_uri": "https://localhost:8080/",
          "height": 282
        },
        "outputId": "d3006936-68e7-4fc5-fb5c-b1d9433ba69d"
      },
      "source": [
        "data.plot()"
      ],
      "execution_count": 284,
      "outputs": [
        {
          "output_type": "execute_result",
          "data": {
            "text/plain": [
              "<matplotlib.axes._subplots.AxesSubplot at 0x7f7f7ccff6d8>"
            ]
          },
          "metadata": {
            "tags": []
          },
          "execution_count": 284
        },
        {
          "output_type": "display_data",
          "data": {
            "image/png": "[encoded data removed]",
            "text/plain": [
              "<Figure size 432x288 with 1 Axes>"
            ]
          },
          "metadata": {
            "tags": [],
            "needs_background": "light"
          }
        }
      ]
    },
    {
      "cell_type": "code",
      "metadata": {
        "id": "O9ncosdhbNWE",
        "colab_type": "code",
        "colab": {
          "base_uri": "https://localhost:8080/",
          "height": 119
        },
        "outputId": "3d1a5c82-7cc4-4c37-b1bd-968847422f7a"
      },
      "source": [
        "pred.detach().numpy().reshape(30,)"
      ],
      "execution_count": 240,
      "outputs": [
        {
          "output_type": "execute_result",
          "data": {
            "text/plain": [
              "array([0.74494548, 0.88994131, 0.76987278, 1.2031192 , 0.81141043,\n",
              "       1.17820521, 1.56275597, 0.79605598, 1.48443652, 1.51237385,\n",
              "       1.07993748, 1.37131456, 1.19924926, 1.49613088, 0.60139839,\n",
              "       1.11298444, 1.31216443, 0.98819264, 0.72340465, 1.01838597,\n",
              "       1.27322229, 1.18998057, 0.83877849, 1.08743315, 1.46903742,\n",
              "       0.61258297, 0.88175317, 1.06469297, 0.84321618, 0.98950853])"
            ]
          },
          "metadata": {
            "tags": []
          },
          "execution_count": 240
        }
      ]
    },
    {
      "cell_type": "code",
      "metadata": {
        "id": "6fcWmNfibvzC",
        "colab_type": "code",
        "colab": {}
      },
      "source": [
        "df['PredictedSalary']=pd.Series(pred.detach().numpy().reshape(30,))"
      ],
      "execution_count": 347,
      "outputs": []
    },
    {
      "cell_type": "code",
      "metadata": {
        "id": "1OuM2dtbcEcm",
        "colab_type": "code",
        "colab": {
          "base_uri": "https://localhost:8080/",
          "height": 296
        },
        "outputId": "cd8abe0e-ba24-46ec-90e8-6d96740e1030"
      },
      "source": [
        "df.plot(x='YearsExperience',y=['PredictedSalary','Salary'])"
      ],
      "execution_count": 348,
      "outputs": [
        {
          "output_type": "execute_result",
          "data": {
            "text/plain": [
              "<matplotlib.axes._subplots.AxesSubplot at 0x7f7f7cb15d30>"
            ]
          },
          "metadata": {
            "tags": []
          },
          "execution_count": 348
        },
        {
          "output_type": "display_data",
          "data": {
            "image/png": "[encoded data removed]",
            "text/plain": [
              "<Figure size 432x288 with 1 Axes>"
            ]
          },
          "metadata": {
            "tags": [],
            "needs_background": "light"
          }
        }
      ]
    },
    {
      "cell_type": "code",
      "metadata": {
        "id": "cKHkag0JeIaD",
        "colab_type": "code",
        "colab": {
          "base_uri": "https://localhost:8080/",
          "height": 979
        },
        "outputId": "6a35ba66-2119-4ac2-bfb5-45a28923af04"
      },
      "source": [
        ""
      ],
      "execution_count": 244,
      "outputs": [
        {
          "output_type": "execute_result",
          "data": {
            "text/html": [
              "<div>\n",
              "<style scoped>\n",
              "    .dataframe tbody tr th:only-of-type {\n",
              "        vertical-align: middle;\n",
              "    }\n",
              "\n",
              "    .dataframe tbody tr th {\n",
              "        vertical-align: top;\n",
              "    }\n",
              "\n",
              "    .dataframe thead th {\n",
              "        text-align: right;\n",
              "    }\n",
              "</style>\n",
              "<table border=\"1\" class=\"dataframe\">\n",
              "  <thead>\n",
              "    <tr style=\"text-align: right;\">\n",
              "      <th></th>\n",
              "      <th>YearsExperience</th>\n",
              "      <th>Salary</th>\n",
              "      <th>PredictedSalary</th>\n",
              "    </tr>\n",
              "  </thead>\n",
              "  <tbody>\n",
              "    <tr>\n",
              "      <th>0</th>\n",
              "      <td>0.000000</td>\n",
              "      <td>0.019041</td>\n",
              "      <td>0.744945</td>\n",
              "    </tr>\n",
              "    <tr>\n",
              "      <th>1</th>\n",
              "      <td>0.021277</td>\n",
              "      <td>0.100094</td>\n",
              "      <td>0.889941</td>\n",
              "    </tr>\n",
              "    <tr>\n",
              "      <th>2</th>\n",
              "      <td>0.042553</td>\n",
              "      <td>0.000000</td>\n",
              "      <td>0.769873</td>\n",
              "    </tr>\n",
              "    <tr>\n",
              "      <th>3</th>\n",
              "      <td>0.095745</td>\n",
              "      <td>0.068438</td>\n",
              "      <td>1.203119</td>\n",
              "    </tr>\n",
              "    <tr>\n",
              "      <th>4</th>\n",
              "      <td>0.117021</td>\n",
              "      <td>0.025514</td>\n",
              "      <td>0.811410</td>\n",
              "    </tr>\n",
              "    <tr>\n",
              "      <th>5</th>\n",
              "      <td>0.191489</td>\n",
              "      <td>0.223376</td>\n",
              "      <td>1.178205</td>\n",
              "    </tr>\n",
              "    <tr>\n",
              "      <th>6</th>\n",
              "      <td>0.202128</td>\n",
              "      <td>0.264812</td>\n",
              "      <td>1.562756</td>\n",
              "    </tr>\n",
              "    <tr>\n",
              "      <th>7</th>\n",
              "      <td>0.223404</td>\n",
              "      <td>0.197425</td>\n",
              "      <td>0.796056</td>\n",
              "    </tr>\n",
              "    <tr>\n",
              "      <th>8</th>\n",
              "      <td>0.223404</td>\n",
              "      <td>0.315545</td>\n",
              "      <td>1.484437</td>\n",
              "    </tr>\n",
              "    <tr>\n",
              "      <th>9</th>\n",
              "      <td>0.276596</td>\n",
              "      <td>0.229837</td>\n",
              "      <td>1.512374</td>\n",
              "    </tr>\n",
              "    <tr>\n",
              "      <th>10</th>\n",
              "      <td>0.297872</td>\n",
              "      <td>0.301051</td>\n",
              "      <td>1.079937</td>\n",
              "    </tr>\n",
              "    <tr>\n",
              "      <th>11</th>\n",
              "      <td>0.308511</td>\n",
              "      <td>0.213359</td>\n",
              "      <td>1.371315</td>\n",
              "    </tr>\n",
              "    <tr>\n",
              "      <th>12</th>\n",
              "      <td>0.308511</td>\n",
              "      <td>0.227097</td>\n",
              "      <td>1.199249</td>\n",
              "    </tr>\n",
              "    <tr>\n",
              "      <th>13</th>\n",
              "      <td>0.319149</td>\n",
              "      <td>0.228561</td>\n",
              "      <td>1.496131</td>\n",
              "    </tr>\n",
              "    <tr>\n",
              "      <th>14</th>\n",
              "      <td>0.361702</td>\n",
              "      <td>0.276163</td>\n",
              "      <td>0.601398</td>\n",
              "    </tr>\n",
              "    <tr>\n",
              "      <th>15</th>\n",
              "      <td>0.404255</td>\n",
              "      <td>0.356804</td>\n",
              "      <td>1.112984</td>\n",
              "    </tr>\n",
              "    <tr>\n",
              "      <th>16</th>\n",
              "      <td>0.425532</td>\n",
              "      <td>0.334255</td>\n",
              "      <td>1.312164</td>\n",
              "    </tr>\n",
              "    <tr>\n",
              "      <th>17</th>\n",
              "      <td>0.446809</td>\n",
              "      <td>0.535755</td>\n",
              "      <td>0.988193</td>\n",
              "    </tr>\n",
              "    <tr>\n",
              "      <th>18</th>\n",
              "      <td>0.510638</td>\n",
              "      <td>0.515379</td>\n",
              "      <td>0.723405</td>\n",
              "    </tr>\n",
              "    <tr>\n",
              "      <th>19</th>\n",
              "      <td>0.521277</td>\n",
              "      <td>0.663938</td>\n",
              "      <td>1.018386</td>\n",
              "    </tr>\n",
              "    <tr>\n",
              "      <th>20</th>\n",
              "      <td>0.606383</td>\n",
              "      <td>0.637928</td>\n",
              "      <td>1.273222</td>\n",
              "    </tr>\n",
              "    <tr>\n",
              "      <th>21</th>\n",
              "      <td>0.638298</td>\n",
              "      <td>0.715119</td>\n",
              "      <td>1.189981</td>\n",
              "    </tr>\n",
              "    <tr>\n",
              "      <th>22</th>\n",
              "      <td>0.723404</td>\n",
              "      <td>0.750898</td>\n",
              "      <td>0.838778</td>\n",
              "    </tr>\n",
              "    <tr>\n",
              "      <th>23</th>\n",
              "      <td>0.755319</td>\n",
              "      <td>0.898665</td>\n",
              "      <td>1.087433</td>\n",
              "    </tr>\n",
              "    <tr>\n",
              "      <th>24</th>\n",
              "      <td>0.808511</td>\n",
              "      <td>0.846917</td>\n",
              "      <td>1.469037</td>\n",
              "    </tr>\n",
              "    <tr>\n",
              "      <th>25</th>\n",
              "      <td>0.840426</td>\n",
              "      <td>0.801453</td>\n",
              "      <td>0.612583</td>\n",
              "    </tr>\n",
              "    <tr>\n",
              "      <th>26</th>\n",
              "      <td>0.893617</td>\n",
              "      <td>0.935956</td>\n",
              "      <td>0.881753</td>\n",
              "    </tr>\n",
              "    <tr>\n",
              "      <th>27</th>\n",
              "      <td>0.904255</td>\n",
              "      <td>0.884763</td>\n",
              "      <td>1.064693</td>\n",
              "    </tr>\n",
              "    <tr>\n",
              "      <th>28</th>\n",
              "      <td>0.978723</td>\n",
              "      <td>1.000000</td>\n",
              "      <td>0.843216</td>\n",
              "    </tr>\n",
              "    <tr>\n",
              "      <th>29</th>\n",
              "      <td>1.000000</td>\n",
              "      <td>0.993870</td>\n",
              "      <td>0.989509</td>\n",
              "    </tr>\n",
              "  </tbody>\n",
              "</table>\n",
              "</div>"
            ],
            "text/plain": [
              "    YearsExperience    Salary  PredictedSalary\n",
              "0          0.000000  0.019041         0.744945\n",
              "1          0.021277  0.100094         0.889941\n",
              "2          0.042553  0.000000         0.769873\n",
              "3          0.095745  0.068438         1.203119\n",
              "4          0.117021  0.025514         0.811410\n",
              "5          0.191489  0.223376         1.178205\n",
              "6          0.202128  0.264812         1.562756\n",
              "7          0.223404  0.197425         0.796056\n",
              "8          0.223404  0.315545         1.484437\n",
              "9          0.276596  0.229837         1.512374\n",
              "10         0.297872  0.301051         1.079937\n",
              "11         0.308511  0.213359         1.371315\n",
              "12         0.308511  0.227097         1.199249\n",
              "13         0.319149  0.228561         1.496131\n",
              "14         0.361702  0.276163         0.601398\n",
              "15         0.404255  0.356804         1.112984\n",
              "16         0.425532  0.334255         1.312164\n",
              "17         0.446809  0.535755         0.988193\n",
              "18         0.510638  0.515379         0.723405\n",
              "19         0.521277  0.663938         1.018386\n",
              "20         0.606383  0.637928         1.273222\n",
              "21         0.638298  0.715119         1.189981\n",
              "22         0.723404  0.750898         0.838778\n",
              "23         0.755319  0.898665         1.087433\n",
              "24         0.808511  0.846917         1.469037\n",
              "25         0.840426  0.801453         0.612583\n",
              "26         0.893617  0.935956         0.881753\n",
              "27         0.904255  0.884763         1.064693\n",
              "28         0.978723  1.000000         0.843216\n",
              "29         1.000000  0.993870         0.989509"
            ]
          },
          "metadata": {
            "tags": []
          },
          "execution_count": 244
        }
      ]
    },
    {
      "cell_type": "code",
      "metadata": {
        "id": "WiHq_ILMeSJ8",
        "colab_type": "code",
        "colab": {}
      },
      "source": [
        ""
      ],
      "execution_count": null,
      "outputs": []
    }
  ]
}